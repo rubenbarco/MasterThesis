{
 "cells": [
  {
   "cell_type": "code",
   "execution_count": 3,
   "metadata": {},
   "outputs": [],
   "source": [
    "import cv2\n",
    "import pandas as pd\n",
    "import numpy as np\n",
    "import matplotlib.pyplot as plt\n",
    "import os\n",
    "import time"
   ]
  },
  {
   "cell_type": "code",
   "execution_count": 4,
   "metadata": {},
   "outputs": [],
   "source": [
    "def max_rectangle(faces):\n",
    "    max_rect = 0\n",
    "    area = 0\n",
    "    for i, (x, y, w, h) in enumerate(faces):\n",
    "        if (w)*(h) > area:\n",
    "            max_rect = i\n",
    "            area = w*h\n",
    "\n",
    "    return max_rect\n",
    "\n",
    "def crop_image(image):\n",
    "    gray = cv2.cvtColor(image, cv2.COLOR_RGB2GRAY)\n",
    "    face_cascade = cv2.CascadeClassifier('haarcascade_frontalface_default.xml')\n",
    "    faces = face_cascade.detectMultiScale(gray, 1.05, 4)\n",
    "    if len(faces) > 0:\n",
    "        if len(faces) > 1:\n",
    "            j = max_rectangle(faces)\n",
    "            (x, y, w, h) = faces[j]\n",
    "        else: (x, y, w, h) = faces[0]\n",
    "        crop_img = cv2.resize(image[y:y+h, x:x+w], (200, 200))\n",
    "        return crop_img\n",
    "    \n",
    "    if faces == 0: \n",
    "        print('No face detected')\n",
    "        return None\n"
   ]
  },
  {
   "cell_type": "code",
   "execution_count": 5,
   "metadata": {},
   "outputs": [],
   "source": [
    "videos = os.listdir('Videos/')"
   ]
  },
  {
   "cell_type": "code",
   "execution_count": 6,
   "metadata": {},
   "outputs": [],
   "source": [
    "dicc_videos = {\n",
    "    \n",
    "    'animals.mp4':'26_1_0.png',\n",
    "    'ghost.mp4':'19_1_0.png',\n",
    "    'lego.mp4':'42_1_0.png',\n",
    "    'looking.mp4':'25_0_3.png',\n",
    "    'talking.mp4':'75_0_0.png',\n",
    "}"
   ]
  },
  {
   "cell_type": "code",
   "execution_count": 10,
   "metadata": {},
   "outputs": [
    {
     "name": "stdout",
     "output_type": "stream",
     "text": [
      "Starting video lego.mp4\n",
      "Starting video looking.mp4\n",
      "Starting video talking.mp4\n"
     ]
    }
   ],
   "source": [
    "for video in videos[2:]:\n",
    "    cap = cv2.VideoCapture('Videos/'+video)\n",
    "    print(\"Starting video {}\".format(video))\n",
    "    i = 0\n",
    "    while(cap.isOpened()):\n",
    "        ret, frame = cap.read()\n",
    "        if type(frame) != type(None):\n",
    "            frame = cv2.cvtColor(frame, cv2.COLOR_BGR2RGB)\n",
    "\n",
    "            face = crop_image(frame)\n",
    "\n",
    "            if type(face) != type(None):\n",
    "                plt.imsave('DyadicFaces/'+video[:-4]+'frame{}'.format(i)+dicc_videos[video], face)\n",
    "            i = i+1\n",
    "        if type(frame) == type(None):\n",
    "            break"
   ]
  }
 ],
 "metadata": {
  "kernelspec": {
   "display_name": "Python 3",
   "language": "python",
   "name": "python3"
  },
  "language_info": {
   "codemirror_mode": {
    "name": "ipython",
    "version": 3
   },
   "file_extension": ".py",
   "mimetype": "text/x-python",
   "name": "python",
   "nbconvert_exporter": "python",
   "pygments_lexer": "ipython3",
   "version": "3.7.3"
  }
 },
 "nbformat": 4,
 "nbformat_minor": 2
}
